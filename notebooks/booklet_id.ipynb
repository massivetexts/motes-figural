{
 "cells": [
  {
   "cell_type": "code",
   "execution_count": 1,
   "metadata": {},
   "outputs": [],
   "source": [
    "from pathlib import Path\n",
    "from pdf2image import convert_from_path\n",
    "import pytesseract\n",
    "import re\n",
    "from tqdm import tqdm\n",
    "import pandas as pd"
   ]
  },
  {
   "cell_type": "code",
   "execution_count": 2,
   "metadata": {},
   "outputs": [
    {
     "data": {
      "text/plain": [
       "(927, PosixPath('../data/ttct_figural/TTCT Post ASS SS 2011 E0L1/70830.pdf'))"
      ]
     },
     "execution_count": 2,
     "metadata": {},
     "output_type": "execute_result"
    }
   ],
   "source": [
    "data_dir = Path('../data/ttct_figural/')\n",
    "all_scans = list(data_dir.glob('**/*pdf'))\n",
    "len(all_scans), all_scans[0]"
   ]
  },
  {
   "cell_type": "code",
   "execution_count": 8,
   "metadata": {},
   "outputs": [
    {
     "data": {
      "image/png": "[encoded data removed]",
      "text/plain": [
       "<PIL.Image.Image image mode=L size=298x275 at 0x7FA68B83FF40>"
      ]
     },
     "execution_count": 8,
     "metadata": {},
     "output_type": "execute_result"
    }
   ],
   "source": [
    "def parse_title_page(path, page=3):\n",
    "    title_page = convert_from_path(path, 100, first_page=page, last_page=page, grayscale=True)[0]\n",
    "    # crop NE corner and resize\n",
    "    w,h = title_page.size\n",
    "    title_crop = title_page.crop((int(w*0.65), 0, w, h//4))\n",
    "    info_crop = title_page.crop((int(w*0.65), int(h*0.65), w, int(h*0.85)))\n",
    "    return title_crop, info_crop\n",
    "\n",
    "title_crop, info_crop = parse_title_page(all_scans[0])\n",
    "title_crop"
   ]
  },
  {
   "cell_type": "code",
   "execution_count": 4,
   "metadata": {},
   "outputs": [
    {
     "name": "stdout",
     "output_type": "stream",
     "text": [
      "True\n"
     ]
    },
    {
     "data": {
      "text/plain": [
       "'BOOKLET A'"
      ]
     },
     "execution_count": 4,
     "metadata": {},
     "output_type": "execute_result"
    }
   ],
   "source": [
    "def get_booklet_info(rawtxt):\n",
    "    booklet_info = re.findall('BOOKLET +.', rawtxt.upper().replace('\\n', ' '))\n",
    "    if len(booklet_info) == 0:\n",
    "        booklet_info = rawtxt.upper().strip().split('\\n')[-1]\n",
    "    else:\n",
    "        booklet_info = booklet_info[0]\n",
    "    return booklet_info\n",
    "\n",
    "def check_correct_page(txt):\n",
    "    if len(txt) < 8:\n",
    "        return False\n",
    "    for snippet in ['THINKING', 'CREATIVE', 'PAUL', 'TORRENCE']:\n",
    "        if snippet in txt.upper():\n",
    "            return True\n",
    "    else:\n",
    "        return False\n",
    "\n",
    "rawtxt = pytesseract.image_to_string(title_crop)\n",
    "print(check_correct_page(rawtxt))\n",
    "info = get_booklet_info(rawtxt)\n",
    "info"
   ]
  },
  {
   "cell_type": "code",
   "execution_count": 76,
   "metadata": {},
   "outputs": [
    {
     "name": "stderr",
     "output_type": "stream",
     "text": [
      "100%|██████████| 927/927 [08:25<00:00,  1.83it/s]\n"
     ]
    }
   ],
   "source": [
    "data = []\n",
    "for path in tqdm(all_scans):\n",
    "    try:\n",
    "        page = 3\n",
    "        while True:\n",
    "            title_crop, info_crop = parse_title_page(path, page=page)\n",
    "\n",
    "            # info box is handwritten, so just save image and don't bother OCRing\n",
    "            info_path = path.parent / (path.stem + '-info.jpg')\n",
    "            info_crop.save(info_path)\n",
    "\n",
    "            rawtxt = pytesseract.image_to_string(title_crop)\n",
    "            if check_correct_page(rawtxt):\n",
    "                info = get_booklet_info(rawtxt)\n",
    "                break\n",
    "            else:\n",
    "                # wrong page, iterating down to find the right one \n",
    "                page -= 1\n",
    "                if page <= 0:\n",
    "                    print(\"Couldn't find the right page for \", path)\n",
    "                info = None\n",
    "    except KeyboardInterrupt:\n",
    "        raise\n",
    "    except:\n",
    "        rawtxt, info = None, None\n",
    "    data.append(dict(path=path, id=path.stem, booklet=info, fullocr=rawtxt, titlepage=page))"
   ]
  },
  {
   "cell_type": "code",
   "execution_count": 77,
   "metadata": {},
   "outputs": [],
   "source": [
    "all_meta = pd.DataFrame(data)\n",
    "all_meta.booklet = all_meta.booklet.str.replace(' ', '').fillna('').apply(lambda x: \"\".join([c for c in list(x) if c.isalnum()]))\n",
    "for c in ['BOOKLETE', 'BOOKLETP', 'BOOKLET5']:\n",
    "    all_meta.booklet = all_meta.booklet.str.replace(c, 'BOOKLETB')\n",
    "for c in ['TT']:\n",
    "    all_meta.booklet = all_meta.booklet.str.replace(c, 'BOOKLETA')\n",
    "# drop some cols for privacy\n",
    "all_meta[['id', 'booklet']].to_csv('../data/booklet-meta.csv')"
   ]
  },
  {
   "cell_type": "markdown",
   "metadata": {},
   "source": [
    "## Manual Fixes"
   ]
  },
  {
   "cell_type": "code",
   "execution_count": 78,
   "metadata": {},
   "outputs": [
    {
     "data": {
      "text/plain": [
       "BOOKLETB      46.9\n",
       "BOOKLETA      44.1\n",
       "BOOKLE         2.8\n",
       "BOOKLET        1.8\n",
       "               0.4\n",
       "BQOKLE         0.1\n",
       "AH             0.1\n",
       "PYCLOTRH       0.1\n",
       "A554           0.1\n",
       "FOUBSAFRET     0.1\n",
       "Name: booklet, dtype: float64"
      ]
     },
     "execution_count": 78,
     "metadata": {},
     "output_type": "execute_result"
    }
   ],
   "source": [
    "# most of the forms were parses, the rest should be done manually\n",
    "(all_meta.booklet.value_counts() / all_meta.shape[0]).mul(100).round(1).head(10)"
   ]
  },
  {
   "cell_type": "code",
   "execution_count": 81,
   "metadata": {},
   "outputs": [
    {
     "name": "stdout",
     "output_type": "stream",
     "text": [
      "../data/ttct_figural/Thurs PM McCammon Fall 2011 Post TTCT/75037.pdf\n"
     ]
    },
    {
     "data": {
      "image/png": "[encoded data removed]"
     },
     "metadata": {},
     "output_type": "display_data"
    }
   ],
   "source": [
    "check_paths = all_meta[all_meta.booklet == 'BQOKLE'].path.tolist()\n",
    "for path in check_paths:\n",
    "    print(path)\n",
    "    title_crop, info_crop = parse_title_page(path)\n",
    "    display_png(title_crop)"
   ]
  }
 ],
 "metadata": {
  "interpreter": {
   "hash": "7f338a26301f83ccc7c2af330cf3835eefd09cb87854710ad5b8aadc65d72f01"
  },
  "kernelspec": {
   "display_name": "Python 3.8.8 ('base')",
   "language": "python",
   "name": "python3"
  },
  "language_info": {
   "codemirror_mode": {
    "name": "ipython",
    "version": 3
   },
   "file_extension": ".py",
   "mimetype": "text/x-python",
   "name": "python",
   "nbconvert_exporter": "python",
   "pygments_lexer": "ipython3",
   "version": "3.8.8"
  },
  "orig_nbformat": 4
 },
 "nbformat": 4,
 "nbformat_minor": 2
}
